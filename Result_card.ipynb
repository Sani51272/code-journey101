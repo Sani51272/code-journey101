{
  "nbformat": 4,
  "nbformat_minor": 0,
  "metadata": {
    "colab": {
      "provenance": [],
      "authorship_tag": "ABX9TyMccS9SjtVr/0pcJxxhcQxV",
      "include_colab_link": true
    },
    "kernelspec": {
      "name": "python3",
      "display_name": "Python 3"
    },
    "language_info": {
      "name": "python"
    }
  },
  "cells": [
    {
      "cell_type": "markdown",
      "metadata": {
        "id": "view-in-github",
        "colab_type": "text"
      },
      "source": [
        "<a href=\"https://colab.research.google.com/github/Sani51272/code-journey101/blob/main/Result_card.ipynb\" target=\"_parent\"><img src=\"https://colab.research.google.com/assets/colab-badge.svg\" alt=\"Open In Colab\"/></a>"
      ]
    },
    {
      "cell_type": "code",
      "execution_count": 14,
      "metadata": {
        "id": "mgKvFPKcA9x8",
        "colab": {
          "base_uri": "https://localhost:8080/"
        },
        "outputId": "f5b7c0c1-213b-4bf7-b145-94d050843910"
      },
      "outputs": [
        {
          "output_type": "stream",
          "name": "stdout",
          "text": [
            "Enter Student Name:  Sani Zahra\n",
            "Enter student's Father name Muhammad Ali\n",
            "Enter Roll number 19027\n",
            "Enter marks for Maths (0-100):  90\n",
            "Enter marks for Physics (0-100): 87\n",
            "Enter marks for Chemistry (0-100):  85\n",
            "Enter marks for Computer Science(0-100):  92\n",
            "Enter marks for English (0-100):  90\n",
            "Date :2025-01-10 14:56:25.463966\n",
            "current_date\n",
            "\n",
            "------Report Card------\n",
            "Name : Sani Zahra\n",
            "Father's name : Muhammad Ali\n",
            "Roll number :19027\n",
            "\n",
            " Subject-wise performance:\n",
            "Subjects            Marks Obtained Grade     \n",
            "Maths               90             Grade : A+\n",
            "Physics             87             Grade : B \n",
            "Chemistry           85             Grade : B \n",
            "Computer_Science    92             Grade : A+\n",
            "English             90             Grade : B \n",
            "\n",
            "Overall_performance:\n",
            "Total Marks:500\n",
            "Marks Obtained:415\n",
            "Percentage:83.00%\n",
            "Overall Grades:Grade : A\n"
          ]
        }
      ],
      "source": [
        "#Student's Detail:\n",
        "from datetime import datetime\n",
        "current_date =datetime.today()\n",
        "Name = str(input(\"Enter Student Name: \"))\n",
        "Father_name = str(input(\"Enter student's Father name\"))\n",
        "Roll_number = int(input(\"Enter Roll number\"))\n",
        "#Function to calculate grade:\n",
        "def calculate_grades (marks):\n",
        "   if marks  >= 90:\n",
        "    return (\"Grade : A+\")\n",
        "   elif marks >= 80:\n",
        "    return (\"Grade : A\")\n",
        "   elif marks >= 70:\n",
        "    return (\"Grade : B\")\n",
        "   elif marks >= 60:\n",
        "    return (\"Grade : C\")\n",
        "   elif marks >= 50:\n",
        "    return (\"Grade : D\")\n",
        "   else:\n",
        "    return (\"Grade : F\")\n",
        "#Subjects:\n",
        "subjects = ['Maths','Physics','Chemistry','Computer Science','English']\n",
        "total_subjects_marks = 100 * len(subjects)\n",
        "#Get marks for each subjects:\n",
        "Maths = int(input(\"Enter marks for Maths (0-100): \"))\n",
        "Physics = int(input(\"Enter marks for Physics (0-100): \"))\n",
        "Chemistry = int(input(\"Enter marks for Chemistry (0-100): \"))\n",
        "Computer_Science = int(input(\"Enter marks for Computer Science(0-100): \"))\n",
        "English = int(input(\"Enter marks for English (0-100): \"))\n",
        "#Calculate grades for each subject:\n",
        "grades = {\n",
        "    \"Maths\": calculate_grades(maths),\n",
        "    \"Physics\": calculate_grades(physics),\n",
        "    \"Chemistry\": calculate_grades(chemistry),\n",
        "    \"Computer_Science\": calculate_grades(computer_science),\n",
        "    \"English\" : calculate_grades(english),\n",
        "}\n",
        "#Calculate total marks and percentage\n",
        "total_marks = 500\n",
        "obtained_marks = maths + physics + chemistry + computer_science + english\n",
        "percentage = (obtained_marks / total_marks)* 100\n",
        "#Calculate overall_grades\n",
        "overall_grades = calculate_grades(percentage)\n",
        "#Print Report Card\n",
        "print(f\"Date :{current_date}\")\n",
        "print(\"current_date\")\n",
        "print(\"\\n------Report Card------\")\n",
        "print(f\"Name :{Name }\")\n",
        "print(f\"Father's name :{Father_name}\")\n",
        "print(f\"Roll number :{Roll_number}\")\n",
        "print(\"\\n Subject-wise performance:\")\n",
        "print(f\"{'Subjects':<20}{'Marks Obtained':<15}{'Grade':<10}\")\n",
        "print(f\"{'Maths':<20}{Maths:<15}{grades['Maths']:<10}\")\n",
        "print(f\"{'Physics':<20}{Physics:<15}{grades['Physics']:<10}\")\n",
        "print(f\"{'Chemistry':<20}{Chemistry :<15}{grades['Chemistry']:<10}\")\n",
        "print(f\"{'Computer_Science':<20}{Computer_Science :<15}{grades['Computer_Science']:<10}\")\n",
        "print(f\"{'English':<20}{English :<15}{grades['English']:<10}\")\n",
        "#Overall Performance\n",
        "print(\"\\nOverall_performance:\")\n",
        "print(f\"Total Marks:{total_marks}\")\n",
        "print(f\"Marks Obtained:{obtained_marks}\")\n",
        "print(f\"Percentage:{percentage:.2f}%\")\n",
        "print(f\"Overall Grades:{overall_grades}\")"
      ]
    }
  ]
}